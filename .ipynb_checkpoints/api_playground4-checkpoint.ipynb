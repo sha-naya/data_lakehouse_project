{
 "cells": [
  {
   "cell_type": "code",
   "execution_count": 13,
   "id": "dc4ba7c8-80dc-4ea5-a39f-6174e522037b",
   "metadata": {},
   "outputs": [
    {
     "name": "stdout",
     "output_type": "stream",
     "text": [
      "((datetime.datetime(2023, 4, 20, 23, 0, 45),),)\n"
     ]
    }
   ],
   "source": [
    "import pymysql\n",
    "\n",
    "ENDPOINT=\"mysql-db.clnepvfqmsjh.us-east-1.rds.amazonaws.com\"\n",
    "PORT=3306\n",
    "USER=\"admin\"\n",
    "REGION=\"us-east-1\"\n",
    "# DBNAME=\"mysql-db\"\n",
    "PASSWD='kwZQXExJUB4s6PY1XOM6'\n",
    "\n",
    "conn =  pymysql.connect(host=ENDPOINT, user=USER, passwd=PASSWD, port=PORT,) #database=DBNAME)\n",
    "\n",
    "cur = conn.cursor()\n",
    "cur.execute(\"\"\"SELECT now()\"\"\")\n",
    "query_results = cur.fetchall()\n",
    "print(query_results)"
   ]
  }
 ],
 "metadata": {
  "kernelspec": {
   "display_name": "Python 3 (ipykernel)",
   "language": "python",
   "name": "python3"
  },
  "language_info": {
   "codemirror_mode": {
    "name": "ipython",
    "version": 3
   },
   "file_extension": ".py",
   "mimetype": "text/x-python",
   "name": "python",
   "nbconvert_exporter": "python",
   "pygments_lexer": "ipython3",
   "version": "3.10.9"
  }
 },
 "nbformat": 4,
 "nbformat_minor": 5
}
