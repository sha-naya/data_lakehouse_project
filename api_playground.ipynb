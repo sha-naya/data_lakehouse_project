{
 "cells": [
  {
   "cell_type": "code",
   "execution_count": 1,
   "id": "424dc226-69c1-4ef1-bf69-50c68b97b734",
   "metadata": {},
   "outputs": [],
   "source": [
    "import requests"
   ]
  },
  {
   "cell_type": "code",
   "execution_count": 6,
   "id": "90b08039-501f-4fe6-bf70-29713009b3f6",
   "metadata": {},
   "outputs": [
    {
     "name": "stdout",
     "output_type": "stream",
     "text": [
      "{\"icao\":\"KBOS\",\"iata\":\"BOS\",\"shortName\":\"General Edward Lawrence Logan\",\"fullName\":\"Boston, General Edward Lawrence Logan\",\"municipalityName\":\"Boston\",\"location\":{\"lat\":42.3643,\"lon\":-71.0052},\"country\":{\"code\":\"US\",\"name\":\"United States\"},\"continent\":{\"code\":\"NA\",\"name\":\"North America\"},\"timeZone\":\"America/New_York\",\"urls\":{\"webSite\":\"http://www.massport.com/logan/\",\"wikipedia\":\"https://en.wikipedia.org/wiki/Logan_International_Airport\",\"googleMaps\":\"https://www.google.com/maps/@42.364299,-71.005203,14z\",\"liveAtc\":\"http://www.liveatc.net/search/?icao=KBOS\",\"flightRadar\":\"https://www.flightradar24.com/42.36,-71.01/14\"}}\n"
     ]
    }
   ],
   "source": [
    "url = \"https://aerodatabox.p.rapidapi.com/airports/iata/BOS\"\n",
    "\n",
    "headers = {\n",
    "\t\"X-RapidAPI-Key\": \"95d1d0071fmsh61e56ba2bd00280p11af1ajsna4e07526c0e4\",\n",
    "\t\"X-RapidAPI-Host\": \"aerodatabox.p.rapidapi.com\"\n",
    "}\n",
    "\n",
    "response = requests.request(\"GET\", url, headers=headers)\n",
    "\n",
    "print(response.text)"
   ]
  },
  {
   "cell_type": "code",
   "execution_count": 10,
   "id": "38f44fba-310a-42c3-b6bb-9f98a8aebc6c",
   "metadata": {},
   "outputs": [
    {
     "data": {
      "text/plain": [
       "{'icao': 'KBOS',\n",
       " 'iata': 'BOS',\n",
       " 'shortName': 'General Edward Lawrence Logan',\n",
       " 'fullName': 'Boston, General Edward Lawrence Logan',\n",
       " 'municipalityName': 'Boston',\n",
       " 'location': {'lat': 42.3643, 'lon': -71.0052},\n",
       " 'country': {'code': 'US', 'name': 'United States'},\n",
       " 'continent': {'code': 'NA', 'name': 'North America'},\n",
       " 'timeZone': 'America/New_York',\n",
       " 'urls': {'webSite': 'http://www.massport.com/logan/',\n",
       "  'wikipedia': 'https://en.wikipedia.org/wiki/Logan_International_Airport',\n",
       "  'googleMaps': 'https://www.google.com/maps/@42.364299,-71.005203,14z',\n",
       "  'liveAtc': 'http://www.liveatc.net/search/?icao=KBOS',\n",
       "  'flightRadar': 'https://www.flightradar24.com/42.36,-71.01/14'}}"
      ]
     },
     "execution_count": 10,
     "metadata": {},
     "output_type": "execute_result"
    }
   ],
   "source": [
    "response.json()"
   ]
  },
  {
   "cell_type": "code",
   "execution_count": 11,
   "id": "1180059a-e5d4-4c28-90dd-b1fddffc0cb9",
   "metadata": {},
   "outputs": [
    {
     "data": {
      "text/plain": [
       "'General Edward Lawrence Logan'"
      ]
     },
     "execution_count": 11,
     "metadata": {},
     "output_type": "execute_result"
    }
   ],
   "source": [
    "response.json()['shortName']"
   ]
  }
 ],
 "metadata": {
  "kernelspec": {
   "display_name": "Python 3 (ipykernel)",
   "language": "python",
   "name": "python3"
  },
  "language_info": {
   "codemirror_mode": {
    "name": "ipython",
    "version": 3
   },
   "file_extension": ".py",
   "mimetype": "text/x-python",
   "name": "python",
   "nbconvert_exporter": "python",
   "pygments_lexer": "ipython3",
   "version": "3.10.9"
  }
 },
 "nbformat": 4,
 "nbformat_minor": 5
}
