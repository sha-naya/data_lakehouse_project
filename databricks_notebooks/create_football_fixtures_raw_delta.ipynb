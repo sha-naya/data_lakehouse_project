{
 "cells": [
  {
   "cell_type": "code",
   "execution_count": 0,
   "metadata": {
    "application/vnd.databricks.v1+cell": {
     "cellMetadata": {
      "byteLimit": 2048000,
      "implicitDf": true,
      "rowLimit": 10000
     },
     "inputWidgets": {},
     "nuid": "039c673e-73da-4454-86d9-39ac1514882a",
     "showTitle": false,
     "title": ""
    }
   },
   "outputs": [
    {
     "output_type": "display_data",
     "data": {
      "text/html": [
       "<style scoped>\n",
       "  .table-result-container {\n",
       "    max-height: 300px;\n",
       "    overflow: auto;\n",
       "  }\n",
       "  table, th, td {\n",
       "    border: 1px solid black;\n",
       "    border-collapse: collapse;\n",
       "  }\n",
       "  th, td {\n",
       "    padding: 5px;\n",
       "  }\n",
       "  th {\n",
       "    text-align: left;\n",
       "  }\n",
       "</style><div class='table-result-container'><table class='table-result'><thead style='background-color: white'><tr></tr></thead><tbody></tbody></table></div>"
      ]
     },
     "metadata": {
      "application/vnd.databricks.v1+output": {
       "addedWidgets": {},
       "aggData": [],
       "aggError": "",
       "aggOverflow": false,
       "aggSchema": [],
       "aggSeriesLimitReached": false,
       "aggType": "",
       "arguments": {},
       "columnCustomDisplayInfos": {},
       "data": [],
       "datasetInfos": [],
       "dbfsResultPath": null,
       "isJsonSchema": true,
       "metadata": {},
       "overflow": false,
       "plotOptions": {
        "customPlotOptions": {},
        "displayType": "table",
        "pivotAggregation": null,
        "pivotColumns": null,
        "xColumns": null,
        "yColumns": null
       },
       "removedWidgets": [],
       "schema": [],
       "type": "table"
      }
     },
     "output_type": "display_data"
    }
   ],
   "source": [
    "%sql\n",
    "CREATE TABLE IF NOT EXISTS football_fixtures_raw (\n",
    "  fixture_id INT,\n",
    "  fixture_referee STRING,\n",
    "  fixture_timezone STRING,\n",
    "  fixture_date STRING,\n",
    "  fixture_timestamp INT,\n",
    "  fixture_periods_first INT,\n",
    "  fixture_periods_second INT,\n",
    "  fixture_venue_id INT,\n",
    "  fixture_venue_name STRING,\n",
    "  fixture_venue_city STRING,\n",
    "  fixture_status_long STRING,\n",
    "  fixture_status_short STRING,\n",
    "  fixture_status_elapsed INT,\n",
    "  goals_home INT,\n",
    "  goals_away INT,\n",
    "  league_id INT,\n",
    "  league_name STRING,\n",
    "  league_country STRING,\n",
    "  league_logo STRING,\n",
    "  league_flag STRING,\n",
    "  league_season INT,\n",
    "  league_round STRING,\n",
    "  score_halftime_home INT,\n",
    "  score_halftime_away INT,\n",
    "  score_fulltime_home INT,\n",
    "  score_fulltime_away INT,\n",
    "  score_extratime_home INT,\n",
    "  score_extratime_away INT,\n",
    "  score_penalty_home INT,\n",
    "  score_penalty_away INT,\n",
    "  teams_home_id INT,\n",
    "  teams_home_name STRING,\n",
    "  teams_home_logo STRING,\n",
    "  teams_home_winner BOOLEAN,\n",
    "  teams_away_id INT,\n",
    "  teams_away_name STRING,\n",
    "  teams_away_logo STRING,\n",
    "  teams_away_winner BOOLEAN\n",
    ")"
   ]
  }
 ],
 "metadata": {
  "application/vnd.databricks.v1+notebook": {
   "dashboards": [],
   "language": "python",
   "notebookMetadata": {
    "mostRecentlyExecutedCommandWithImplicitDF": {
     "commandId": 983875500185136,
     "dataframes": [
      "_sqldf"
     ]
    },
    "pythonIndentUnit": 4
   },
   "notebookName": "create_football_fixtures_raw_delta",
   "notebookOrigID": 983875500185135,
   "widgets": {}
  }
 },
 "nbformat": 4,
 "nbformat_minor": 0
}
