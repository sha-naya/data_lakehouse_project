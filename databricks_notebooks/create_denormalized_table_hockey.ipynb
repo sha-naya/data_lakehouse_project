{
 "cells": [
  {
   "cell_type": "code",
   "execution_count": 0,
   "metadata": {
    "application/vnd.databricks.v1+cell": {
     "cellMetadata": {
      "byteLimit": 2048000,
      "implicitDf": true,
      "rowLimit": 10000
     },
     "inputWidgets": {},
     "nuid": "e97480c6-7b0b-47fa-b975-4a1d874d81e1",
     "showTitle": false,
     "title": ""
    }
   },
   "outputs": [
    {
     "output_type": "display_data",
     "data": {
      "text/html": [
       "<style scoped>\n",
       "  .table-result-container {\n",
       "    max-height: 300px;\n",
       "    overflow: auto;\n",
       "  }\n",
       "  table, th, td {\n",
       "    border: 1px solid black;\n",
       "    border-collapse: collapse;\n",
       "  }\n",
       "  th, td {\n",
       "    padding: 5px;\n",
       "  }\n",
       "  th {\n",
       "    text-align: left;\n",
       "  }\n",
       "</style><div class='table-result-container'><table class='table-result'><thead style='background-color: white'><tr></tr></thead><tbody></tbody></table></div>"
      ]
     },
     "metadata": {
      "application/vnd.databricks.v1+output": {
       "addedWidgets": {},
       "aggData": [],
       "aggError": "",
       "aggOverflow": false,
       "aggSchema": [],
       "aggSeriesLimitReached": false,
       "aggType": "",
       "arguments": {},
       "columnCustomDisplayInfos": {},
       "data": [],
       "datasetInfos": [],
       "dbfsResultPath": null,
       "isJsonSchema": true,
       "metadata": {},
       "overflow": false,
       "plotOptions": {
        "customPlotOptions": {},
        "displayType": "table",
        "pivotAggregation": null,
        "pivotColumns": null,
        "xColumns": null,
        "yColumns": null
       },
       "removedWidgets": [],
       "schema": [],
       "type": "table"
      }
     },
     "output_type": "display_data"
    }
   ],
   "source": [
    "%sql\n",
    "CREATE OR REPLACE TABLE cs779.denorm_hockey_nhl (\n",
    "  denorm_hockey_id BIGINT GENERATED ALWAYS AS IDENTITY,\n",
    "  id INT,\n",
    "  date DATE,\n",
    "  time VARCHAR(100),\n",
    "  timezone VARCHAR(100),\n",
    "  teams_home_name VARCHAR(100),\n",
    "  teams_away_name VARCHAR(100),\n",
    "  periods_first VARCHAR(100),\n",
    "  periods_second VARCHAR(100),\n",
    "  periods_third VARCHAR(100),\n",
    "  periods_overtime VARCHAR(100),\n",
    "  periods_penalites VARCHAR(100),\n",
    "  scores_home INT,\n",
    "  scores_away INT,\n",
    "  total_goals INT\n",
    ");"
   ]
  }
 ],
 "metadata": {
  "application/vnd.databricks.v1+notebook": {
   "dashboards": [],
   "language": "python",
   "notebookMetadata": {
    "mostRecentlyExecutedCommandWithImplicitDF": {
     "commandId": 3812054949641199,
     "dataframes": [
      "_sqldf"
     ]
    },
    "pythonIndentUnit": 4
   },
   "notebookName": "create_denormalized_table_hockey",
   "notebookOrigID": 3812054949641198,
   "widgets": {}
  }
 },
 "nbformat": 4,
 "nbformat_minor": 0
}
