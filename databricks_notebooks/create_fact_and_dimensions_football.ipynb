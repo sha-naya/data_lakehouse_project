{
 "cells": [
  {
   "cell_type": "code",
   "execution_count": 0,
   "metadata": {
    "application/vnd.databricks.v1+cell": {
     "cellMetadata": {
      "byteLimit": 2048000,
      "implicitDf": true,
      "rowLimit": 10000
     },
     "inputWidgets": {},
     "nuid": "d3ca86f8-2611-4cf0-822d-016e4343b46a",
     "showTitle": false,
     "title": ""
    }
   },
   "outputs": [
    {
     "output_type": "display_data",
     "data": {
      "text/html": [
       "<style scoped>\n",
       "  .table-result-container {\n",
       "    max-height: 300px;\n",
       "    overflow: auto;\n",
       "  }\n",
       "  table, th, td {\n",
       "    border: 1px solid black;\n",
       "    border-collapse: collapse;\n",
       "  }\n",
       "  th, td {\n",
       "    padding: 5px;\n",
       "  }\n",
       "  th {\n",
       "    text-align: left;\n",
       "  }\n",
       "</style><div class='table-result-container'><table class='table-result'><thead style='background-color: white'><tr></tr></thead><tbody></tbody></table></div>"
      ]
     },
     "metadata": {
      "application/vnd.databricks.v1+output": {
       "addedWidgets": {},
       "aggData": [],
       "aggError": "",
       "aggOverflow": false,
       "aggSchema": [],
       "aggSeriesLimitReached": false,
       "aggType": "",
       "arguments": {},
       "columnCustomDisplayInfos": {},
       "data": [],
       "datasetInfos": [],
       "dbfsResultPath": null,
       "isJsonSchema": true,
       "metadata": {},
       "overflow": false,
       "plotOptions": {
        "customPlotOptions": {},
        "displayType": "table",
        "pivotAggregation": null,
        "pivotColumns": null,
        "xColumns": null,
        "yColumns": null
       },
       "removedWidgets": [],
       "schema": [],
       "type": "table"
      }
     },
     "output_type": "display_data"
    }
   ],
   "source": [
    "%sql\n",
    "CREATE OR REPLACE TABLE cs779.dim_datetime (\n",
    "  dim_date_id BIGINT GENERATED ALWAYS AS IDENTITY,\n",
    "  fixture_date STRING,\n",
    "  fixture_timezone STRING\n",
    ");\n",
    "\n",
    "CREATE OR REPLACE TABLE cs779.dim_referee (\n",
    "  dim_referee_id BIGINT GENERATED ALWAYS AS IDENTITY,\n",
    "  fixture_referee STRING\n",
    ");\n",
    "\n",
    "CREATE OR REPLACE TABLE cs779.dim_venue (\n",
    "  dim_venue_id BIGINT GENERATED ALWAYS AS IDENTITY,\n",
    "  fixture_venue STRING,\n",
    "  fixture_venue_city STRING\n",
    ");\n",
    "\n",
    "CREATE OR REPLACE TABLE cs779.dim_league (\n",
    "  dim_league_id BIGINT GENERATED ALWAYS AS IDENTITY,\n",
    "  league_name STRING\n",
    ");\n",
    "\n",
    "\n",
    "CREATE OR REPLACE TABLE cs779.dim_team (\n",
    "  dim_team_id BIGINT GENERATED ALWAYS AS IDENTITY,\n",
    "  teams_name STRING\n",
    ");"
   ]
  },
  {
   "cell_type": "code",
   "execution_count": 0,
   "metadata": {
    "application/vnd.databricks.v1+cell": {
     "cellMetadata": {
      "byteLimit": 2048000,
      "implicitDf": true,
      "rowLimit": 10000
     },
     "inputWidgets": {},
     "nuid": "c4ae4bb2-e2fe-4a95-b188-edf2c0ca7f9e",
     "showTitle": false,
     "title": ""
    }
   },
   "outputs": [
    {
     "output_type": "display_data",
     "data": {
      "text/html": [
       "<style scoped>\n",
       "  .table-result-container {\n",
       "    max-height: 300px;\n",
       "    overflow: auto;\n",
       "  }\n",
       "  table, th, td {\n",
       "    border: 1px solid black;\n",
       "    border-collapse: collapse;\n",
       "  }\n",
       "  th, td {\n",
       "    padding: 5px;\n",
       "  }\n",
       "  th {\n",
       "    text-align: left;\n",
       "  }\n",
       "</style><div class='table-result-container'><table class='table-result'><thead style='background-color: white'><tr></tr></thead><tbody></tbody></table></div>"
      ]
     },
     "metadata": {
      "application/vnd.databricks.v1+output": {
       "addedWidgets": {},
       "aggData": [],
       "aggError": "",
       "aggOverflow": false,
       "aggSchema": [],
       "aggSeriesLimitReached": false,
       "aggType": "",
       "arguments": {},
       "columnCustomDisplayInfos": {},
       "data": [],
       "datasetInfos": [],
       "dbfsResultPath": null,
       "isJsonSchema": true,
       "metadata": {},
       "overflow": false,
       "plotOptions": {
        "customPlotOptions": {},
        "displayType": "table",
        "pivotAggregation": null,
        "pivotColumns": null,
        "xColumns": null,
        "yColumns": null
       },
       "removedWidgets": [],
       "schema": [],
       "type": "table"
      }
     },
     "output_type": "display_data"
    }
   ],
   "source": [
    "%sql\n",
    "CREATE OR REPLACE TABLE cs779.fct_football_fixtures_english (\n",
    "  fct_fixture_id BIGINT GENERATED ALWAYS AS IDENTITY,\n",
    "  fixture_id INT,\n",
    "  dim_date_id BIGINT,\n",
    "  dim_referee_id BIGINT,\n",
    "  dim_venue_id BIGINT,\n",
    "  dim_league_id BIGINT,\n",
    "  dim_home_team_id BIGINT,\n",
    "  dim_away_team_id BIGINT,\n",
    "  goals_home INT,\n",
    "  goals_away INT,\n",
    "  score_halftime_home INT,\n",
    "  score_halftime_away INT,\n",
    "  score_fulltime_home INT,\n",
    "  score_fulltime_away INT,\n",
    "  home_victory BOOLEAN,\n",
    "  away_victory BOOLEAN,\n",
    "  draw BOOLEAN\n",
    ");"
   ]
  },
  {
   "cell_type": "code",
   "execution_count": 0,
   "metadata": {
    "application/vnd.databricks.v1+cell": {
     "cellMetadata": {},
     "inputWidgets": {},
     "nuid": "837e3ccd-98db-494c-bea0-28cc86b1bd36",
     "showTitle": false,
     "title": ""
    }
   },
   "outputs": [],
   "source": []
  }
 ],
 "metadata": {
  "application/vnd.databricks.v1+notebook": {
   "dashboards": [],
   "language": "python",
   "notebookMetadata": {
    "mostRecentlyExecutedCommandWithImplicitDF": {
     "commandId": 1040169265500955,
     "dataframes": [
      "_sqldf"
     ]
    },
    "pythonIndentUnit": 4
   },
   "notebookName": "create_fact_and_dimensions_football",
   "notebookOrigID": 1040169265500953,
   "widgets": {}
  }
 },
 "nbformat": 4,
 "nbformat_minor": 0
}
