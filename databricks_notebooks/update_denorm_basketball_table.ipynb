{
 "cells": [
  {
   "cell_type": "code",
   "execution_count": 0,
   "metadata": {
    "application/vnd.databricks.v1+cell": {
     "cellMetadata": {
      "byteLimit": 2048000,
      "implicitDf": true,
      "rowLimit": 10000
     },
     "inputWidgets": {},
     "nuid": "01c3210c-4404-4972-b09c-874601cac394",
     "showTitle": false,
     "title": ""
    }
   },
   "outputs": [
    {
     "output_type": "display_data",
     "data": {
      "text/html": [
       "<style scoped>\n",
       "  .table-result-container {\n",
       "    max-height: 300px;\n",
       "    overflow: auto;\n",
       "  }\n",
       "  table, th, td {\n",
       "    border: 1px solid black;\n",
       "    border-collapse: collapse;\n",
       "  }\n",
       "  th, td {\n",
       "    padding: 5px;\n",
       "  }\n",
       "  th {\n",
       "    text-align: left;\n",
       "  }\n",
       "</style><div class='table-result-container'><table class='table-result'><thead style='background-color: white'><tr><th>num_affected_rows</th><th>num_inserted_rows</th></tr></thead><tbody><tr><td>47</td><td>47</td></tr></tbody></table></div>"
      ]
     },
     "metadata": {
      "application/vnd.databricks.v1+output": {
       "addedWidgets": {},
       "aggData": [],
       "aggError": "",
       "aggOverflow": false,
       "aggSchema": [],
       "aggSeriesLimitReached": false,
       "aggType": "",
       "arguments": {},
       "columnCustomDisplayInfos": {},
       "data": [
        [
         47,
         47
        ]
       ],
       "datasetInfos": [],
       "dbfsResultPath": null,
       "isJsonSchema": true,
       "metadata": {},
       "overflow": false,
       "plotOptions": {
        "customPlotOptions": {},
        "displayType": "table",
        "pivotAggregation": null,
        "pivotColumns": null,
        "xColumns": null,
        "yColumns": null
       },
       "removedWidgets": [],
       "schema": [
        {
         "metadata": "{}",
         "name": "num_affected_rows",
         "type": "\"long\""
        },
        {
         "metadata": "{}",
         "name": "num_inserted_rows",
         "type": "\"long\""
        }
       ],
       "type": "table"
      }
     },
     "output_type": "display_data"
    }
   ],
   "source": [
    "%sql\n",
    "CREATE OR REPLACE TEMPORARY VIEW vw_denorm_basketball_nba \n",
    "AS\n",
    "SELECT\n",
    "  id AS match_id,\n",
    "  CAST(date AS DATE) AS match_date,\n",
    "  time AS match_time,\n",
    "  timezone AS match_timezone,\n",
    "  league_season AS match_season,\n",
    "  teams_home_name AS home_team,\n",
    "  teams_away_name AS away_team,\n",
    "  scores_home_quarter_1,\n",
    "  scores_away_quarter_1,\n",
    "  scores_home_quarter_1 + scores_away_quarter_1 AS quarter_1_score,\n",
    "  scores_home_quarter_2,\n",
    "  scores_away_quarter_2,\n",
    "  scores_home_quarter_2 + scores_away_quarter_2 AS quarter_2_score,\n",
    "  scores_home_quarter_3,\n",
    "  scores_away_quarter_3,\n",
    "  scores_home_quarter_3 + scores_away_quarter_3 AS quarter_3_score,\n",
    "  scores_home_quarter_4,\n",
    "  scores_away_quarter_4,\n",
    "  scores_home_quarter_4 + scores_away_quarter_4 AS quarter_4_score,\n",
    "  scores_home_over_time,\n",
    "  scores_away_over_time,\n",
    "  scores_home_total,\n",
    "  scores_away_total,\n",
    "  scores_home_total + scores_away_total AS total_points_scored\n",
    "FROM basketball_matches_raw\n",
    "WHERE league_name = 'NBA';\n",
    "\n",
    "INSERT INTO cs779.denorm_basketball_nba (\n",
    "  match_id,\n",
    "  match_date,\n",
    "  match_time,\n",
    "  match_timezone,\n",
    "  match_season,\n",
    "  home_team,\n",
    "  away_team,\n",
    "  scores_home_quarter_1,\n",
    "  scores_away_quarter_1,\n",
    "  quarter_1_score,\n",
    "  scores_home_quarter_2,\n",
    "  scores_away_quarter_2,\n",
    "  quarter_2_score,\n",
    "  scores_home_quarter_3,\n",
    "  scores_away_quarter_3,\n",
    "  quarter_3_score,\n",
    "  scores_home_quarter_4,\n",
    "  scores_away_quarter_4,\n",
    "  quarter_4_score,\n",
    "  scores_home_over_time,\n",
    "  scores_away_over_time,\n",
    "  scores_home_total,\n",
    "  scores_away_total,\n",
    "  total_points_scored\n",
    ")\n",
    "SELECT *\n",
    "FROM vw_denorm_basketball_nba\n",
    "EXCEPT\n",
    "SELECT\n",
    "  match_id,\n",
    "  match_date,\n",
    "  match_time,\n",
    "  match_timezone,\n",
    "  match_season,\n",
    "  home_team,\n",
    "  away_team,\n",
    "  scores_home_quarter_1,\n",
    "  scores_away_quarter_1,\n",
    "  quarter_1_score,\n",
    "  scores_home_quarter_2,\n",
    "  scores_away_quarter_2,\n",
    "  quarter_2_score,\n",
    "  scores_home_quarter_3,\n",
    "  scores_away_quarter_3,\n",
    "  quarter_3_score,\n",
    "  scores_home_quarter_4,\n",
    "  scores_away_quarter_4,\n",
    "  quarter_4_score,\n",
    "  scores_home_over_time,\n",
    "  scores_away_over_time,\n",
    "  scores_home_total,\n",
    "  scores_away_total,\n",
    "  total_points_scored\n",
    "FROM cs779.denorm_basketball_nba"
   ]
  },
  {
   "cell_type": "code",
   "execution_count": 0,
   "metadata": {
    "application/vnd.databricks.v1+cell": {
     "cellMetadata": {},
     "inputWidgets": {},
     "nuid": "8ce7ee17-f8de-456c-aae0-2673ed44703a",
     "showTitle": false,
     "title": ""
    }
   },
   "outputs": [],
   "source": []
  }
 ],
 "metadata": {
  "application/vnd.databricks.v1+notebook": {
   "dashboards": [],
   "language": "python",
   "notebookMetadata": {
    "mostRecentlyExecutedCommandWithImplicitDF": {
     "commandId": 1573259175426670,
     "dataframes": [
      "_sqldf"
     ]
    },
    "pythonIndentUnit": 4
   },
   "notebookName": "update_denorm_basketball_table",
   "notebookOrigID": 1573259175426669,
   "widgets": {}
  }
 },
 "nbformat": 4,
 "nbformat_minor": 0
}
