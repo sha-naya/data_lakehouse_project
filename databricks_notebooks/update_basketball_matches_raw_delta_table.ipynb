{
 "cells": [
  {
   "cell_type": "code",
   "execution_count": 0,
   "metadata": {
    "application/vnd.databricks.v1+cell": {
     "cellMetadata": {
      "byteLimit": 2048000,
      "rowLimit": 10000
     },
     "inputWidgets": {},
     "nuid": "ad765e56-74c8-49b0-bb66-119d7ec7512f",
     "showTitle": false,
     "title": ""
    }
   },
   "outputs": [],
   "source": [
    "from pyspark.sql.types import IntegerType, StringType, StructField, DecimalType, StructType\n",
    "schema = StructType([ \\\n",
    "    StructField(\"id\", IntegerType(),True), \\\n",
    "    StructField(\"date\",StringType(),True), \\\n",
    "    StructField(\"time\",StringType(),True), \\\n",
    "    StructField(\"timestamp\",IntegerType(),True), \\\n",
    "    StructField(\"timezone\", StringType(), True), \\\n",
    "    StructField(\"stage\", StringType(), True), \\\n",
    "    StructField(\"week\", IntegerType(), True), \\\n",
    "    StructField(\"status_long\", StringType(),True), \\\n",
    "    StructField(\"status_short\",StringType(),True), \\\n",
    "    StructField(\"status_timer\",StringType(),True), \\\n",
    "    StructField(\"league_id\", IntegerType(), True), \\\n",
    "    StructField(\"league_name\", StringType(), True), \\\n",
    "    StructField(\"league_type\", StringType(), True), \\\n",
    "    StructField(\"league_season\", StringType(),True), \\\n",
    "    StructField(\"league_logo\",StringType(),True), \\\n",
    "    StructField(\"country_id\",IntegerType(),True), \\\n",
    "    StructField(\"country_name\", StringType(), True), \\\n",
    "    StructField(\"country_code\", StringType(), True), \\\n",
    "    StructField(\"country_flag\", StringType(), True), \\\n",
    "    StructField(\"teams_home_id\", IntegerType(),True), \\\n",
    "    StructField(\"teams_home_name\",StringType(),True), \\\n",
    "    StructField(\"teams_home_logo\",StringType(),True), \\\n",
    "    StructField(\"teams_away_id\", StringType(), True), \\\n",
    "    StructField(\"teams_away_name\", StringType(), True), \\\n",
    "    StructField(\"teams_away_logo\", StringType(), True), \\\n",
    "    StructField(\"scores_home_quarter_1\", DecimalType(),True), \\\n",
    "    StructField(\"scores_home_quarter_2\",DecimalType(),True), \\\n",
    "    StructField(\"scores_home_quarter_3\",DecimalType(),True), \\\n",
    "    StructField(\"scores_home_quarter_4\", DecimalType(), True), \\\n",
    "    StructField(\"scores_home_over_time\", DecimalType(), True), \\\n",
    "    StructField(\"scores_home_total\", DecimalType(), True), \\\n",
    "    StructField(\"scores_away_quarter_1\", DecimalType(),True), \\\n",
    "    StructField(\"scores_away_quarter_2\",DecimalType(),True), \\\n",
    "    StructField(\"scores_away_quarter_3\",DecimalType(),True), \\\n",
    "    StructField(\"scores_away_quarter_4\", DecimalType(), True), \\\n",
    "    StructField(\"scores_away_over_time\", DecimalType(), True), \\\n",
    "    StructField(\"scores_away_total\", DecimalType(), True) \\\n",
    "  ])"
   ]
  },
  {
   "cell_type": "code",
   "execution_count": 0,
   "metadata": {
    "application/vnd.databricks.v1+cell": {
     "cellMetadata": {
      "byteLimit": 2048000,
      "rowLimit": 10000
     },
     "inputWidgets": {},
     "nuid": "cf7b0bc1-bed0-49a7-91ca-4e7235afaed3",
     "showTitle": false,
     "title": ""
    }
   },
   "outputs": [],
   "source": [
    "df = spark.read.option(\"header\",True).schema(schema).csv(\"dbfs:/mnt/s3_data/basketball_games.csv\").cache()"
   ]
  },
  {
   "cell_type": "code",
   "execution_count": 0,
   "metadata": {
    "application/vnd.databricks.v1+cell": {
     "cellMetadata": {
      "byteLimit": 2048000,
      "rowLimit": 10000
     },
     "inputWidgets": {},
     "nuid": "fdc88ac8-a881-4dd5-b40b-e70942b6bf3c",
     "showTitle": false,
     "title": ""
    }
   },
   "outputs": [],
   "source": [
    "df.createOrReplaceTempView(\"vw_basketball_matches_raw\")"
   ]
  },
  {
   "cell_type": "code",
   "execution_count": 0,
   "metadata": {
    "application/vnd.databricks.v1+cell": {
     "cellMetadata": {
      "byteLimit": 2048000,
      "implicitDf": true,
      "rowLimit": 10000
     },
     "inputWidgets": {},
     "nuid": "37cd2b07-b3de-4a10-86ab-2b310cea7a44",
     "showTitle": false,
     "title": ""
    }
   },
   "outputs": [
    {
     "output_type": "display_data",
     "data": {
      "text/html": [
       "<style scoped>\n",
       "  .table-result-container {\n",
       "    max-height: 300px;\n",
       "    overflow: auto;\n",
       "  }\n",
       "  table, th, td {\n",
       "    border: 1px solid black;\n",
       "    border-collapse: collapse;\n",
       "  }\n",
       "  th, td {\n",
       "    padding: 5px;\n",
       "  }\n",
       "  th {\n",
       "    text-align: left;\n",
       "  }\n",
       "</style><div class='table-result-container'><table class='table-result'><thead style='background-color: white'><tr><th>num_affected_rows</th><th>num_updated_rows</th><th>num_deleted_rows</th><th>num_inserted_rows</th></tr></thead><tbody><tr><td>121</td><td>0</td><td>0</td><td>121</td></tr></tbody></table></div>"
      ]
     },
     "metadata": {
      "application/vnd.databricks.v1+output": {
       "addedWidgets": {},
       "aggData": [],
       "aggError": "",
       "aggOverflow": false,
       "aggSchema": [],
       "aggSeriesLimitReached": false,
       "aggType": "",
       "arguments": {},
       "columnCustomDisplayInfos": {},
       "data": [
        [
         121,
         0,
         0,
         121
        ]
       ],
       "datasetInfos": [],
       "dbfsResultPath": null,
       "isJsonSchema": true,
       "metadata": {},
       "overflow": false,
       "plotOptions": {
        "customPlotOptions": {},
        "displayType": "table",
        "pivotAggregation": null,
        "pivotColumns": null,
        "xColumns": null,
        "yColumns": null
       },
       "removedWidgets": [],
       "schema": [
        {
         "metadata": "{}",
         "name": "num_affected_rows",
         "type": "\"long\""
        },
        {
         "metadata": "{}",
         "name": "num_updated_rows",
         "type": "\"long\""
        },
        {
         "metadata": "{}",
         "name": "num_deleted_rows",
         "type": "\"long\""
        },
        {
         "metadata": "{}",
         "name": "num_inserted_rows",
         "type": "\"long\""
        }
       ],
       "type": "table"
      }
     },
     "output_type": "display_data"
    }
   ],
   "source": [
    "%sql\n",
    "MERGE INTO basketball_matches_raw\n",
    "USING vw_basketball_matches_raw\n",
    "ON basketball_matches_raw.id = vw_basketball_matches_raw.id\n",
    "WHEN MATCHED THEN UPDATE SET *\n",
    "WHEN NOT MATCHED THEN INSERT *;"
   ]
  }
 ],
 "metadata": {
  "application/vnd.databricks.v1+notebook": {
   "dashboards": [],
   "language": "python",
   "notebookMetadata": {
    "mostRecentlyExecutedCommandWithImplicitDF": {
     "commandId": 2707919973428977,
     "dataframes": [
      "_sqldf"
     ]
    },
    "pythonIndentUnit": 4
   },
   "notebookName": "update_basketball_matches_raw_delta_table",
   "notebookOrigID": 3321362697483968,
   "widgets": {}
  }
 },
 "nbformat": 4,
 "nbformat_minor": 0
}
