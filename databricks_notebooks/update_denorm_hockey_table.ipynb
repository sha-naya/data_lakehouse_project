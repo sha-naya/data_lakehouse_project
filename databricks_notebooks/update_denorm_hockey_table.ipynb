{
 "cells": [
  {
   "cell_type": "code",
   "execution_count": 0,
   "metadata": {
    "application/vnd.databricks.v1+cell": {
     "cellMetadata": {
      "byteLimit": 2048000,
      "rowLimit": 10000
     },
     "inputWidgets": {},
     "nuid": "dcfc118f-013d-42c1-a2ee-e3e67f2eee3b",
     "showTitle": false,
     "title": ""
    }
   },
   "outputs": [],
   "source": [
    "df = spark.read.table(\"hockey_matches_raw\")"
   ]
  },
  {
   "cell_type": "code",
   "execution_count": 0,
   "metadata": {
    "application/vnd.databricks.v1+cell": {
     "cellMetadata": {
      "byteLimit": 2048000,
      "implicitDf": true,
      "rowLimit": 10000
     },
     "inputWidgets": {},
     "nuid": "0e197e9e-4174-4c21-acf2-0a0f0a767e40",
     "showTitle": false,
     "title": ""
    }
   },
   "outputs": [],
   "source": [
    "df2 = df.filter( (df.league_name == 'NHL') & (df.status_short == 'FT') ).select(\n",
    "    \"id\",\n",
    "    \"date\",\n",
    "    \"time\",\n",
    "    \"timezone\",\n",
    "    \"teams_home_name\",\n",
    "    \"teams_away_name\",\n",
    "    \"periods_first\",\n",
    "    \"periods_second\",\n",
    "    \"periods_third\",\n",
    "    \"periods_overtime\",\n",
    "    \"periods_penalties\",\n",
    "    \"scores_home\",\n",
    "    \"scores_away\"\n",
    ")"
   ]
  },
  {
   "cell_type": "code",
   "execution_count": 0,
   "metadata": {
    "application/vnd.databricks.v1+cell": {
     "cellMetadata": {
      "byteLimit": 2048000,
      "rowLimit": 10000
     },
     "inputWidgets": {},
     "nuid": "a8d0fe70-ae7b-4ba9-af26-fc1959680961",
     "showTitle": false,
     "title": ""
    }
   },
   "outputs": [],
   "source": [
    "df3 = df2.withColumn(\"total_goals\", df2.scores_home + df2.scores_away)"
   ]
  },
  {
   "cell_type": "code",
   "execution_count": 0,
   "metadata": {
    "application/vnd.databricks.v1+cell": {
     "cellMetadata": {
      "byteLimit": 2048000,
      "rowLimit": 10000
     },
     "inputWidgets": {},
     "nuid": "276af201-815d-4b99-8b35-7a775e5e00fb",
     "showTitle": false,
     "title": ""
    }
   },
   "outputs": [],
   "source": [
    "from pyspark.sql.functions import col\n",
    "from pyspark.sql.types import DateType\n",
    "df4 = df3.withColumn(\"date\",col(\"date\").cast(DateType()))"
   ]
  },
  {
   "cell_type": "code",
   "execution_count": 0,
   "metadata": {
    "application/vnd.databricks.v1+cell": {
     "cellMetadata": {
      "byteLimit": 2048000,
      "rowLimit": 10000
     },
     "inputWidgets": {},
     "nuid": "a6c147fe-ac87-4716-afa8-3882e0be594a",
     "showTitle": false,
     "title": ""
    }
   },
   "outputs": [],
   "source": [
    "df4.createOrReplaceTempView(\"vw_denorm_hockey_nhl\")"
   ]
  },
  {
   "cell_type": "code",
   "execution_count": 0,
   "metadata": {
    "application/vnd.databricks.v1+cell": {
     "cellMetadata": {
      "byteLimit": 2048000,
      "implicitDf": true,
      "rowLimit": 10000
     },
     "inputWidgets": {},
     "nuid": "df5ca9c4-c251-441f-a602-953fce39ae69",
     "showTitle": false,
     "title": ""
    }
   },
   "outputs": [
    {
     "output_type": "display_data",
     "data": {
      "text/html": [
       "<style scoped>\n",
       "  .table-result-container {\n",
       "    max-height: 300px;\n",
       "    overflow: auto;\n",
       "  }\n",
       "  table, th, td {\n",
       "    border: 1px solid black;\n",
       "    border-collapse: collapse;\n",
       "  }\n",
       "  th, td {\n",
       "    padding: 5px;\n",
       "  }\n",
       "  th {\n",
       "    text-align: left;\n",
       "  }\n",
       "</style><div class='table-result-container'><table class='table-result'><thead style='background-color: white'><tr><th>num_affected_rows</th><th>num_inserted_rows</th></tr></thead><tbody><tr><td>4</td><td>4</td></tr></tbody></table></div>"
      ]
     },
     "metadata": {
      "application/vnd.databricks.v1+output": {
       "addedWidgets": {},
       "aggData": [],
       "aggError": "",
       "aggOverflow": false,
       "aggSchema": [],
       "aggSeriesLimitReached": false,
       "aggType": "",
       "arguments": {},
       "columnCustomDisplayInfos": {},
       "data": [
        [
         4,
         4
        ]
       ],
       "datasetInfos": [],
       "dbfsResultPath": null,
       "isJsonSchema": true,
       "metadata": {},
       "overflow": false,
       "plotOptions": {
        "customPlotOptions": {},
        "displayType": "table",
        "pivotAggregation": null,
        "pivotColumns": null,
        "xColumns": null,
        "yColumns": null
       },
       "removedWidgets": [],
       "schema": [
        {
         "metadata": "{}",
         "name": "num_affected_rows",
         "type": "\"long\""
        },
        {
         "metadata": "{}",
         "name": "num_inserted_rows",
         "type": "\"long\""
        }
       ],
       "type": "table"
      }
     },
     "output_type": "display_data"
    }
   ],
   "source": [
    "%sql\n",
    "INSERT INTO cs779.denorm_hockey_nhl (\n",
    "  id,\n",
    "  date,\n",
    "  time,\n",
    "  timezone,\n",
    "  teams_home_name,\n",
    "  teams_away_name,\n",
    "  periods_first,\n",
    "  periods_second,\n",
    "  periods_third,\n",
    "  periods_overtime,\n",
    "  periods_penalites,\n",
    "  scores_home,\n",
    "  scores_away,\n",
    "  total_goals\n",
    ")\n",
    "SELECT *\n",
    "FROM vw_denorm_hockey_nhl\n",
    "EXCEPT\n",
    "SELECT\n",
    "  id,\n",
    "  date,\n",
    "  time,\n",
    "  timezone,\n",
    "  teams_home_name,\n",
    "  teams_away_name,\n",
    "  periods_first,\n",
    "  periods_second,\n",
    "  periods_third,\n",
    "  periods_overtime,\n",
    "  periods_penalites,\n",
    "  scores_home,\n",
    "  scores_away,\n",
    "  total_goals\n",
    "FROM cs779.denorm_hockey_nhl"
   ]
  }
 ],
 "metadata": {
  "application/vnd.databricks.v1+notebook": {
   "dashboards": [],
   "language": "python",
   "notebookMetadata": {
    "mostRecentlyExecutedCommandWithImplicitDF": {
     "commandId": 2081156914693528,
     "dataframes": [
      "_sqldf"
     ]
    },
    "pythonIndentUnit": 4
   },
   "notebookName": "update_denorm_hockey_table",
   "notebookOrigID": 3158456549113567,
   "widgets": {}
  }
 },
 "nbformat": 4,
 "nbformat_minor": 0
}
