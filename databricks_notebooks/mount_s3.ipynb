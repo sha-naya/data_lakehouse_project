{
 "cells": [
  {
   "cell_type": "code",
   "execution_count": 0,
   "metadata": {
    "application/vnd.databricks.v1+cell": {
     "cellMetadata": {},
     "inputWidgets": {},
     "nuid": "d7eb9876-f510-4b87-be5d-43be6ad40ac3",
     "showTitle": false,
     "title": ""
    }
   },
   "outputs": [],
   "source": [
    "import urllib\n",
    "\n",
    "access_key = '#########'\n",
    "secret_key = '#########'\n",
    "encoded_secret_key = urllib.parse.quote(secret_key, '')\n",
    "bucket_name = 'cs779'\n",
    "mount_name = 's3_data'\n",
    "dbutils.fs.mount(f's3n://{access_key}:{encoded_secret_key}@{bucket_name}', f'/mnt/{mount_name}')"
   ]
  }
 ],
 "metadata": {
  "application/vnd.databricks.v1+notebook": {
   "dashboards": [],
   "language": "python",
   "notebookMetadata": {
    "pythonIndentUnit": 4
   },
   "notebookName": "mount_s3",
   "notebookOrigID": 2707919973428975,
   "widgets": {}
  }
 },
 "nbformat": 4,
 "nbformat_minor": 0
}
