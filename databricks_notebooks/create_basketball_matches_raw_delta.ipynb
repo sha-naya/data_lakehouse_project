{
 "cells": [
  {
   "cell_type": "code",
   "execution_count": 0,
   "metadata": {
    "application/vnd.databricks.v1+cell": {
     "cellMetadata": {
      "byteLimit": 2048000,
      "implicitDf": true,
      "rowLimit": 10000
     },
     "inputWidgets": {},
     "nuid": "76c3ca12-8d22-41e4-b8de-13db6f20dd9c",
     "showTitle": false,
     "title": ""
    }
   },
   "outputs": [
    {
     "output_type": "display_data",
     "data": {
      "text/html": [
       "<style scoped>\n",
       "  .table-result-container {\n",
       "    max-height: 300px;\n",
       "    overflow: auto;\n",
       "  }\n",
       "  table, th, td {\n",
       "    border: 1px solid black;\n",
       "    border-collapse: collapse;\n",
       "  }\n",
       "  th, td {\n",
       "    padding: 5px;\n",
       "  }\n",
       "  th {\n",
       "    text-align: left;\n",
       "  }\n",
       "</style><div class='table-result-container'><table class='table-result'><thead style='background-color: white'><tr></tr></thead><tbody></tbody></table></div>"
      ]
     },
     "metadata": {
      "application/vnd.databricks.v1+output": {
       "addedWidgets": {},
       "aggData": [],
       "aggError": "",
       "aggOverflow": false,
       "aggSchema": [],
       "aggSeriesLimitReached": false,
       "aggType": "",
       "arguments": {},
       "columnCustomDisplayInfos": {},
       "data": [],
       "datasetInfos": [],
       "dbfsResultPath": null,
       "isJsonSchema": true,
       "metadata": {},
       "overflow": false,
       "plotOptions": {
        "customPlotOptions": {},
        "displayType": "table",
        "pivotAggregation": null,
        "pivotColumns": null,
        "xColumns": null,
        "yColumns": null
       },
       "removedWidgets": [],
       "schema": [],
       "type": "table"
      }
     },
     "output_type": "display_data"
    }
   ],
   "source": [
    "%sql\n",
    "CREATE OR REPLACE TABLE basketball_matches_raw (\n",
    "  id INT,\n",
    "  date STRING,\n",
    "  time STRING,\n",
    "  timestamp INT,\n",
    "  timezone STRING,\n",
    "  stage STRING,\n",
    "  week STRING,\n",
    "  status_long STRING,\n",
    "  status_short STRING,\n",
    "  status_timer STRING,\n",
    "  league_id INT,\n",
    "  league_name STRING,\n",
    "  league_type STRING,\n",
    "  league_season STRING,\n",
    "  league_logo STRING,\n",
    "  country_id INT,\n",
    "  country_name STRING,\n",
    "  country_code STRING,\n",
    "  country_flag STRING,\n",
    "  teams_home_id INT,\n",
    "  teams_home_name STRING,\n",
    "  teams_home_logo STRING,\n",
    "  teams_away_id INT,\n",
    "  teams_away_name STRING,\n",
    "  teams_away_logo STRING,\n",
    "  scores_home_quarter_1 DECIMAL,\n",
    "  scores_home_quarter_2 DECIMAL,\n",
    "  scores_home_quarter_3 DECIMAL,\n",
    "  scores_home_quarter_4 DECIMAL,\n",
    "  scores_home_over_time DECIMAL,\n",
    "  scores_home_total DECIMAL,\n",
    "  scores_away_quarter_1 DECIMAL,\n",
    "  scores_away_quarter_2 DECIMAL,\n",
    "  scores_away_quarter_3 DECIMAL,\n",
    "  scores_away_quarter_4 DECIMAL,\n",
    "  scores_away_over_time DECIMAL,\n",
    "  scores_away_total DECIMAL\n",
    ")"
   ]
  },
  {
   "cell_type": "code",
   "execution_count": 0,
   "metadata": {
    "application/vnd.databricks.v1+cell": {
     "cellMetadata": {},
     "inputWidgets": {},
     "nuid": "f2b9bfb7-1949-4cec-9920-c741b2143e34",
     "showTitle": false,
     "title": ""
    }
   },
   "outputs": [],
   "source": []
  }
 ],
 "metadata": {
  "application/vnd.databricks.v1+notebook": {
   "dashboards": [],
   "language": "python",
   "notebookMetadata": {
    "mostRecentlyExecutedCommandWithImplicitDF": {
     "commandId": 3262088716586868,
     "dataframes": [
      "_sqldf"
     ]
    },
    "pythonIndentUnit": 4
   },
   "notebookName": "create_basketball_matches_raw_delta",
   "notebookOrigID": 3262088716586867,
   "widgets": {}
  }
 },
 "nbformat": 4,
 "nbformat_minor": 0
}
