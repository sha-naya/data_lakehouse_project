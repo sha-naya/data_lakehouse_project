{
 "cells": [
  {
   "cell_type": "code",
   "execution_count": 0,
   "metadata": {
    "application/vnd.databricks.v1+cell": {
     "cellMetadata": {
      "byteLimit": 2048000,
      "implicitDf": true,
      "rowLimit": 10000
     },
     "inputWidgets": {},
     "nuid": "3d450da4-0940-4ed8-9569-a7bbb0e96789",
     "showTitle": false,
     "title": ""
    }
   },
   "outputs": [
    {
     "output_type": "display_data",
     "data": {
      "text/html": [
       "<style scoped>\n",
       "  .table-result-container {\n",
       "    max-height: 300px;\n",
       "    overflow: auto;\n",
       "  }\n",
       "  table, th, td {\n",
       "    border: 1px solid black;\n",
       "    border-collapse: collapse;\n",
       "  }\n",
       "  th, td {\n",
       "    padding: 5px;\n",
       "  }\n",
       "  th {\n",
       "    text-align: left;\n",
       "  }\n",
       "</style><div class='table-result-container'><table class='table-result'><thead style='background-color: white'><tr><th>num_affected_rows</th><th>num_inserted_rows</th></tr></thead><tbody><tr><td>422</td><td>422</td></tr></tbody></table></div>"
      ]
     },
     "metadata": {
      "application/vnd.databricks.v1+output": {
       "addedWidgets": {},
       "aggData": [],
       "aggError": "",
       "aggOverflow": false,
       "aggSchema": [],
       "aggSeriesLimitReached": false,
       "aggType": "",
       "arguments": {},
       "columnCustomDisplayInfos": {},
       "data": [
        [
         422,
         422
        ]
       ],
       "datasetInfos": [],
       "dbfsResultPath": null,
       "isJsonSchema": true,
       "metadata": {},
       "overflow": false,
       "plotOptions": {
        "customPlotOptions": {},
        "displayType": "table",
        "pivotAggregation": null,
        "pivotColumns": null,
        "xColumns": null,
        "yColumns": null
       },
       "removedWidgets": [],
       "schema": [
        {
         "metadata": "{}",
         "name": "num_affected_rows",
         "type": "\"long\""
        },
        {
         "metadata": "{}",
         "name": "num_inserted_rows",
         "type": "\"long\""
        }
       ],
       "type": "table"
      }
     },
     "output_type": "display_data"
    }
   ],
   "source": [
    "%sql\n",
    "CREATE OR REPLACE TEMPORARY VIEW vw_dim_datetime \n",
    "AS\n",
    "SELECT fixture_date, fixture_timezone\n",
    "FROM football_fixtures_raw\n",
    "GROUP BY 1, 2;\n",
    "\n",
    "INSERT INTO cs779.dim_datetime (fixture_date, fixture_timezone)\n",
    "SELECT fixture_date, fixture_timezone\n",
    "FROM vw_dim_datetime\n",
    "EXCEPT\n",
    "SELECT fixture_date, fixture_timezone\n",
    "FROM cs779.dim_datetime"
   ]
  },
  {
   "cell_type": "code",
   "execution_count": 0,
   "metadata": {
    "application/vnd.databricks.v1+cell": {
     "cellMetadata": {
      "byteLimit": 2048000,
      "implicitDf": true,
      "rowLimit": 10000
     },
     "inputWidgets": {},
     "nuid": "9e7ff53a-7757-42f9-8230-ba3e1fc8a89c",
     "showTitle": false,
     "title": ""
    }
   },
   "outputs": [
    {
     "output_type": "display_data",
     "data": {
      "text/html": [
       "<style scoped>\n",
       "  .table-result-container {\n",
       "    max-height: 300px;\n",
       "    overflow: auto;\n",
       "  }\n",
       "  table, th, td {\n",
       "    border: 1px solid black;\n",
       "    border-collapse: collapse;\n",
       "  }\n",
       "  th, td {\n",
       "    padding: 5px;\n",
       "  }\n",
       "  th {\n",
       "    text-align: left;\n",
       "  }\n",
       "</style><div class='table-result-container'><table class='table-result'><thead style='background-color: white'><tr><th>num_affected_rows</th><th>num_inserted_rows</th></tr></thead><tbody><tr><td>1394</td><td>1394</td></tr></tbody></table></div>"
      ]
     },
     "metadata": {
      "application/vnd.databricks.v1+output": {
       "addedWidgets": {},
       "aggData": [],
       "aggError": "",
       "aggOverflow": false,
       "aggSchema": [],
       "aggSeriesLimitReached": false,
       "aggType": "",
       "arguments": {},
       "columnCustomDisplayInfos": {},
       "data": [
        [
         1394,
         1394
        ]
       ],
       "datasetInfos": [],
       "dbfsResultPath": null,
       "isJsonSchema": true,
       "metadata": {},
       "overflow": false,
       "plotOptions": {
        "customPlotOptions": {},
        "displayType": "table",
        "pivotAggregation": null,
        "pivotColumns": null,
        "xColumns": null,
        "yColumns": null
       },
       "removedWidgets": [],
       "schema": [
        {
         "metadata": "{}",
         "name": "num_affected_rows",
         "type": "\"long\""
        },
        {
         "metadata": "{}",
         "name": "num_inserted_rows",
         "type": "\"long\""
        }
       ],
       "type": "table"
      }
     },
     "output_type": "display_data"
    }
   ],
   "source": [
    "%sql\n",
    "CREATE OR REPLACE TEMPORARY VIEW vw_dim_referee \n",
    "AS\n",
    "SELECT fixture_referee\n",
    "FROM football_fixtures_raw\n",
    "GROUP BY 1;\n",
    "\n",
    "INSERT INTO cs779.dim_referee (fixture_referee)\n",
    "SELECT fixture_referee\n",
    "FROM vw_dim_referee\n",
    "EXCEPT\n",
    "SELECT fixture_referee\n",
    "FROM cs779.dim_referee"
   ]
  },
  {
   "cell_type": "code",
   "execution_count": 0,
   "metadata": {
    "application/vnd.databricks.v1+cell": {
     "cellMetadata": {
      "byteLimit": 2048000,
      "implicitDf": true,
      "rowLimit": 10000
     },
     "inputWidgets": {},
     "nuid": "4be13ffc-d4ee-43c3-8b49-56dbe9a7a4fa",
     "showTitle": false,
     "title": ""
    }
   },
   "outputs": [
    {
     "output_type": "display_data",
     "data": {
      "text/html": [
       "<style scoped>\n",
       "  .table-result-container {\n",
       "    max-height: 300px;\n",
       "    overflow: auto;\n",
       "  }\n",
       "  table, th, td {\n",
       "    border: 1px solid black;\n",
       "    border-collapse: collapse;\n",
       "  }\n",
       "  th, td {\n",
       "    padding: 5px;\n",
       "  }\n",
       "  th {\n",
       "    text-align: left;\n",
       "  }\n",
       "</style><div class='table-result-container'><table class='table-result'><thead style='background-color: white'><tr><th>num_affected_rows</th><th>num_inserted_rows</th></tr></thead><tbody><tr><td>3114</td><td>3114</td></tr></tbody></table></div>"
      ]
     },
     "metadata": {
      "application/vnd.databricks.v1+output": {
       "addedWidgets": {},
       "aggData": [],
       "aggError": "",
       "aggOverflow": false,
       "aggSchema": [],
       "aggSeriesLimitReached": false,
       "aggType": "",
       "arguments": {},
       "columnCustomDisplayInfos": {},
       "data": [
        [
         3114,
         3114
        ]
       ],
       "datasetInfos": [],
       "dbfsResultPath": null,
       "isJsonSchema": true,
       "metadata": {},
       "overflow": false,
       "plotOptions": {
        "customPlotOptions": {},
        "displayType": "table",
        "pivotAggregation": null,
        "pivotColumns": null,
        "xColumns": null,
        "yColumns": null
       },
       "removedWidgets": [],
       "schema": [
        {
         "metadata": "{}",
         "name": "num_affected_rows",
         "type": "\"long\""
        },
        {
         "metadata": "{}",
         "name": "num_inserted_rows",
         "type": "\"long\""
        }
       ],
       "type": "table"
      }
     },
     "output_type": "display_data"
    }
   ],
   "source": [
    "%sql\n",
    "CREATE OR REPLACE TEMPORARY VIEW vw_dim_venue \n",
    "AS\n",
    "SELECT fixture_venue_name AS fixture_venue, fixture_venue_city\n",
    "FROM football_fixtures_raw\n",
    "GROUP BY 1, 2;\n",
    "\n",
    "INSERT INTO cs779.dim_venue (fixture_venue, fixture_venue_city)\n",
    "SELECT fixture_venue, fixture_venue_city\n",
    "FROM vw_dim_venue\n",
    "EXCEPT\n",
    "SELECT fixture_venue, fixture_venue_city\n",
    "FROM cs779.dim_venue"
   ]
  },
  {
   "cell_type": "code",
   "execution_count": 0,
   "metadata": {
    "application/vnd.databricks.v1+cell": {
     "cellMetadata": {
      "byteLimit": 2048000,
      "implicitDf": true,
      "rowLimit": 10000
     },
     "inputWidgets": {},
     "nuid": "140f3363-f736-4e66-a710-4687a78549d3",
     "showTitle": false,
     "title": ""
    }
   },
   "outputs": [
    {
     "output_type": "display_data",
     "data": {
      "text/html": [
       "<style scoped>\n",
       "  .table-result-container {\n",
       "    max-height: 300px;\n",
       "    overflow: auto;\n",
       "  }\n",
       "  table, th, td {\n",
       "    border: 1px solid black;\n",
       "    border-collapse: collapse;\n",
       "  }\n",
       "  th, td {\n",
       "    padding: 5px;\n",
       "  }\n",
       "  th {\n",
       "    text-align: left;\n",
       "  }\n",
       "</style><div class='table-result-container'><table class='table-result'><thead style='background-color: white'><tr><th>num_affected_rows</th><th>num_inserted_rows</th></tr></thead><tbody><tr><td>436</td><td>436</td></tr></tbody></table></div>"
      ]
     },
     "metadata": {
      "application/vnd.databricks.v1+output": {
       "addedWidgets": {},
       "aggData": [],
       "aggError": "",
       "aggOverflow": false,
       "aggSchema": [],
       "aggSeriesLimitReached": false,
       "aggType": "",
       "arguments": {},
       "columnCustomDisplayInfos": {},
       "data": [
        [
         436,
         436
        ]
       ],
       "datasetInfos": [],
       "dbfsResultPath": null,
       "isJsonSchema": true,
       "metadata": {},
       "overflow": false,
       "plotOptions": {
        "customPlotOptions": {},
        "displayType": "table",
        "pivotAggregation": null,
        "pivotColumns": null,
        "xColumns": null,
        "yColumns": null
       },
       "removedWidgets": [],
       "schema": [
        {
         "metadata": "{}",
         "name": "num_affected_rows",
         "type": "\"long\""
        },
        {
         "metadata": "{}",
         "name": "num_inserted_rows",
         "type": "\"long\""
        }
       ],
       "type": "table"
      }
     },
     "output_type": "display_data"
    }
   ],
   "source": [
    "%sql\n",
    "CREATE OR REPLACE TEMPORARY VIEW vw_dim_league\n",
    "AS\n",
    "SELECT league_name\n",
    "FROM football_fixtures_raw\n",
    "GROUP BY 1;\n",
    "\n",
    "INSERT INTO cs779.dim_league (league_name)\n",
    "SELECT league_name\n",
    "FROM vw_dim_league\n",
    "EXCEPT\n",
    "SELECT league_name\n",
    "FROM cs779.dim_league"
   ]
  },
  {
   "cell_type": "code",
   "execution_count": 0,
   "metadata": {
    "application/vnd.databricks.v1+cell": {
     "cellMetadata": {
      "byteLimit": 2048000,
      "implicitDf": true,
      "rowLimit": 10000
     },
     "inputWidgets": {},
     "nuid": "da561711-a4bb-4248-8fac-9357cd7157ca",
     "showTitle": false,
     "title": ""
    }
   },
   "outputs": [
    {
     "output_type": "display_data",
     "data": {
      "text/html": [
       "<style scoped>\n",
       "  .table-result-container {\n",
       "    max-height: 300px;\n",
       "    overflow: auto;\n",
       "  }\n",
       "  table, th, td {\n",
       "    border: 1px solid black;\n",
       "    border-collapse: collapse;\n",
       "  }\n",
       "  th, td {\n",
       "    padding: 5px;\n",
       "  }\n",
       "  th {\n",
       "    text-align: left;\n",
       "  }\n",
       "</style><div class='table-result-container'><table class='table-result'><thead style='background-color: white'><tr><th>num_affected_rows</th><th>num_inserted_rows</th></tr></thead><tbody><tr><td>6104</td><td>6104</td></tr></tbody></table></div>"
      ]
     },
     "metadata": {
      "application/vnd.databricks.v1+output": {
       "addedWidgets": {},
       "aggData": [],
       "aggError": "",
       "aggOverflow": false,
       "aggSchema": [],
       "aggSeriesLimitReached": false,
       "aggType": "",
       "arguments": {},
       "columnCustomDisplayInfos": {},
       "data": [
        [
         6104,
         6104
        ]
       ],
       "datasetInfos": [],
       "dbfsResultPath": null,
       "isJsonSchema": true,
       "metadata": {},
       "overflow": false,
       "plotOptions": {
        "customPlotOptions": {},
        "displayType": "table",
        "pivotAggregation": null,
        "pivotColumns": null,
        "xColumns": null,
        "yColumns": null
       },
       "removedWidgets": [],
       "schema": [
        {
         "metadata": "{}",
         "name": "num_affected_rows",
         "type": "\"long\""
        },
        {
         "metadata": "{}",
         "name": "num_inserted_rows",
         "type": "\"long\""
        }
       ],
       "type": "table"
      }
     },
     "output_type": "display_data"
    }
   ],
   "source": [
    "%sql\n",
    "CREATE OR REPLACE TEMPORARY VIEW vw_dim_team\n",
    "AS\n",
    "SELECT teams_home_name AS teams_name\n",
    "FROM football_fixtures_raw\n",
    "GROUP BY 1\n",
    "UNION\n",
    "SELECT teams_away_name AS teams_name\n",
    "FROM football_fixtures_raw\n",
    "GROUP BY 1;\n",
    "\n",
    "INSERT INTO cs779.dim_team (teams_name)\n",
    "SELECT teams_name\n",
    "FROM vw_dim_team\n",
    "EXCEPT\n",
    "SELECT teams_name\n",
    "FROM cs779.dim_team"
   ]
  },
  {
   "cell_type": "code",
   "execution_count": 0,
   "metadata": {
    "application/vnd.databricks.v1+cell": {
     "cellMetadata": {
      "byteLimit": 2048000,
      "implicitDf": true,
      "rowLimit": 10000
     },
     "inputWidgets": {},
     "nuid": "adaecac8-f729-4f93-8adb-d388362ae847",
     "showTitle": false,
     "title": ""
    }
   },
   "outputs": [
    {
     "output_type": "display_data",
     "data": {
      "text/html": [
       "<style scoped>\n",
       "  .table-result-container {\n",
       "    max-height: 300px;\n",
       "    overflow: auto;\n",
       "  }\n",
       "  table, th, td {\n",
       "    border: 1px solid black;\n",
       "    border-collapse: collapse;\n",
       "  }\n",
       "  th, td {\n",
       "    padding: 5px;\n",
       "  }\n",
       "  th {\n",
       "    text-align: left;\n",
       "  }\n",
       "</style><div class='table-result-container'><table class='table-result'><thead style='background-color: white'><tr><th>num_affected_rows</th><th>num_inserted_rows</th></tr></thead><tbody><tr><td>349</td><td>349</td></tr></tbody></table></div>"
      ]
     },
     "metadata": {
      "application/vnd.databricks.v1+output": {
       "addedWidgets": {},
       "aggData": [],
       "aggError": "",
       "aggOverflow": false,
       "aggSchema": [],
       "aggSeriesLimitReached": false,
       "aggType": "",
       "arguments": {},
       "columnCustomDisplayInfos": {},
       "data": [
        [
         349,
         349
        ]
       ],
       "datasetInfos": [],
       "dbfsResultPath": null,
       "isJsonSchema": true,
       "metadata": {},
       "overflow": false,
       "plotOptions": {
        "customPlotOptions": {},
        "displayType": "table",
        "pivotAggregation": null,
        "pivotColumns": null,
        "xColumns": null,
        "yColumns": null
       },
       "removedWidgets": [],
       "schema": [
        {
         "metadata": "{}",
         "name": "num_affected_rows",
         "type": "\"long\""
        },
        {
         "metadata": "{}",
         "name": "num_inserted_rows",
         "type": "\"long\""
        }
       ],
       "type": "table"
      }
     },
     "output_type": "display_data"
    }
   ],
   "source": [
    "%sql\n",
    "CREATE OR REPLACE TEMPORARY VIEW vw_fct_football_fixtures_english\n",
    "AS\n",
    "WITH \n",
    "table1 AS (\n",
    "  SELECT\n",
    "    fixture_id,\n",
    "    fixture_date,\n",
    "    fixture_referee,\n",
    "    fixture_venue_name AS fixture_venue,\n",
    "    league_name,\n",
    "    teams_home_name,\n",
    "    teams_away_name,\n",
    "    goals_home,\n",
    "    goals_away,\n",
    "    score_halftime_home,\n",
    "    score_halftime_away,\n",
    "    score_fulltime_home,\n",
    "    score_fulltime_away,\n",
    "    teams_home_winner,\n",
    "    teams_away_winner\n",
    "  FROM football_fixtures_raw\n",
    "  WHERE league_id IN (\n",
    "    SELECT league_id\n",
    "    FROM football_english_leagues\n",
    "  ) AND fixture_status_long = 'Match Finished'\n",
    "),\n",
    "table2 AS (\n",
    "  SELECT\n",
    "    t1.fixture_id,\n",
    "    dd.dim_date_id,\n",
    "    dr.dim_referee_id,\n",
    "    dv.dim_venue_id,\n",
    "    dl.dim_league_id,\n",
    "    dt.dim_team_id AS dim_home_team_id,\n",
    "    teams_away_name,\n",
    "    t1.goals_home,\n",
    "    t1.goals_away,\n",
    "    t1.score_halftime_home,\n",
    "    t1.score_halftime_away,\n",
    "    t1.score_fulltime_home,\n",
    "    t1.score_fulltime_away,\n",
    "    t1.teams_home_winner,\n",
    "    t1.teams_away_winner\n",
    "  FROM table1 AS t1\n",
    "  LEFT JOIN dim_datetime AS dd\n",
    "    ON t1.fixture_date = dd.fixture_date\n",
    "  LEFT JOIN dim_referee AS dr\n",
    "    ON t1.fixture_referee = dr.fixture_referee\n",
    "  LEFT JOIN dim_venue AS dv\n",
    "    ON t1.fixture_venue = dv.fixture_venue\n",
    "  LEFT JOIN dim_league AS dl\n",
    "    ON t1.league_name = dl.league_name\n",
    "  LEFT JOIN dim_team AS dt\n",
    "    ON t1.teams_home_name = dt.teams_name\n",
    "),\n",
    "table3 AS (\n",
    "  SELECT\n",
    "    t2.fixture_id,\n",
    "    t2.dim_date_id,\n",
    "    t2.dim_referee_id,\n",
    "    t2.dim_venue_id,\n",
    "    t2.dim_league_id,\n",
    "    t2.dim_home_team_id,\n",
    "    dt.dim_team_id AS dim_away_team_id,\n",
    "    t2.goals_home,\n",
    "    t2.goals_away,\n",
    "    t2.score_halftime_home,\n",
    "    t2.score_halftime_away,\n",
    "    t2.score_fulltime_home,\n",
    "    t2.score_fulltime_away,\n",
    "    t2.teams_home_winner AS home_victory,\n",
    "    t2.teams_away_winner AS away_victory\n",
    "  FROM table2 AS t2\n",
    "  LEFT JOIN dim_team AS dt\n",
    "    ON t2.teams_away_name = dt. teams_name\n",
    "),\n",
    "table4 AS (\n",
    "  SELECT\n",
    "    *,\n",
    "    CASE\n",
    "      WHEN home_victory IS NULL AND away_victory IS NULL THEN TRUE\n",
    "      ELSE FALSE\n",
    "    END AS draw\n",
    "  FROM table3\n",
    ")\n",
    "SELECT *\n",
    "FROM table4;\n",
    "\n",
    "INSERT INTO cs779.fct_football_fixtures_english (\n",
    "  fixture_id, \n",
    "  dim_date_id, \n",
    "  dim_referee_id, \n",
    "  dim_venue_id, \n",
    "  dim_league_id, \n",
    "  dim_home_team_id, \n",
    "  dim_away_team_id, \n",
    "  goals_home, \n",
    "  goals_away, \n",
    "  score_halftime_home, \n",
    "  score_halftime_away, \n",
    "  score_fulltime_home, \n",
    "  score_fulltime_away, \n",
    "  home_victory, \n",
    "  away_victory, \n",
    "  draw\n",
    "  )\n",
    "SELECT *\n",
    "FROM vw_fct_football_fixtures_english\n",
    "EXCEPT\n",
    "SELECT \n",
    "  fixture_id, \n",
    "  dim_date_id, \n",
    "  dim_referee_id, \n",
    "  dim_venue_id, \n",
    "  dim_league_id, \n",
    "  dim_home_team_id, \n",
    "  dim_away_team_id, \n",
    "  goals_home, \n",
    "  goals_away, \n",
    "  score_halftime_home, \n",
    "  score_halftime_away, \n",
    "  score_fulltime_home, \n",
    "  score_fulltime_away, \n",
    "  home_victory, \n",
    "  away_victory, \n",
    "  draw\n",
    "FROM cs779.fct_football_fixtures_english"
   ]
  },
  {
   "cell_type": "code",
   "execution_count": 0,
   "metadata": {
    "application/vnd.databricks.v1+cell": {
     "cellMetadata": {},
     "inputWidgets": {},
     "nuid": "c2e0d611-59c6-49f2-a74f-b82d2a954f90",
     "showTitle": false,
     "title": ""
    }
   },
   "outputs": [],
   "source": []
  }
 ],
 "metadata": {
  "application/vnd.databricks.v1+notebook": {
   "dashboards": [],
   "language": "python",
   "notebookMetadata": {
    "mostRecentlyExecutedCommandWithImplicitDF": {
     "commandId": 1573259175426662,
     "dataframes": [
      "_sqldf"
     ]
    },
    "pythonIndentUnit": 4
   },
   "notebookName": "update_fct_and_dim_tables_football_english",
   "notebookOrigID": 1040169265500957,
   "widgets": {}
  }
 },
 "nbformat": 4,
 "nbformat_minor": 0
}
