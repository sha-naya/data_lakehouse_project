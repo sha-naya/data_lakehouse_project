{
 "cells": [
  {
   "cell_type": "code",
   "execution_count": 0,
   "metadata": {
    "application/vnd.databricks.v1+cell": {
     "cellMetadata": {
      "byteLimit": 2048000,
      "implicitDf": true,
      "rowLimit": 10000
     },
     "inputWidgets": {},
     "nuid": "7d1ff55d-ad0a-4104-b3a4-94b49127dc71",
     "showTitle": false,
     "title": ""
    }
   },
   "outputs": [
    {
     "output_type": "display_data",
     "data": {
      "text/html": [
       "<style scoped>\n",
       "  .table-result-container {\n",
       "    max-height: 300px;\n",
       "    overflow: auto;\n",
       "  }\n",
       "  table, th, td {\n",
       "    border: 1px solid black;\n",
       "    border-collapse: collapse;\n",
       "  }\n",
       "  th, td {\n",
       "    padding: 5px;\n",
       "  }\n",
       "  th {\n",
       "    text-align: left;\n",
       "  }\n",
       "</style><div class='table-result-container'><table class='table-result'><thead style='background-color: white'><tr></tr></thead><tbody></tbody></table></div>"
      ]
     },
     "metadata": {
      "application/vnd.databricks.v1+output": {
       "addedWidgets": {},
       "aggData": [],
       "aggError": "",
       "aggOverflow": false,
       "aggSchema": [],
       "aggSeriesLimitReached": false,
       "aggType": "",
       "arguments": {},
       "columnCustomDisplayInfos": {},
       "data": [],
       "datasetInfos": [],
       "dbfsResultPath": null,
       "isJsonSchema": true,
       "metadata": {},
       "overflow": false,
       "plotOptions": {
        "customPlotOptions": {},
        "displayType": "table",
        "pivotAggregation": null,
        "pivotColumns": null,
        "xColumns": null,
        "yColumns": null
       },
       "removedWidgets": [],
       "schema": [],
       "type": "table"
      }
     },
     "output_type": "display_data"
    }
   ],
   "source": [
    "%sql\n",
    "CREATE OR REPLACE TABLE cs779.denorm_basketball_nba (\n",
    "  denorm_basketball_id BIGINT GENERATED ALWAYS AS IDENTITY,\n",
    "  match_id INT,\n",
    "  match_date DATE,\n",
    "  match_time STRING,\n",
    "  match_timezone STRING,\n",
    "  match_season STRING,\n",
    "  home_team STRING,\n",
    "  away_team STRING,\n",
    "  scores_home_quarter_1 DECIMAL(10,0),\n",
    "  scores_away_quarter_1 DECIMAL(10,0),\n",
    "  quarter_1_score DECIMAL(10,0),\n",
    "  scores_home_quarter_2 DECIMAL(10,0),\n",
    "  scores_away_quarter_2 DECIMAL(10,0),\n",
    "  quarter_2_score DECIMAL(10,0),\n",
    "  scores_home_quarter_3 DECIMAL(10,0),\n",
    "  scores_away_quarter_3 DECIMAL(10,0),\n",
    "  quarter_3_score DECIMAL(10,0),\n",
    "  scores_home_quarter_4 DECIMAL(10,0),\n",
    "  scores_away_quarter_4 DECIMAL(10,0),\n",
    "  quarter_4_score DECIMAL(10,0),\n",
    "  scores_home_over_time DECIMAL(10,0),\n",
    "  scores_away_over_time DECIMAL(10,0),\n",
    "  scores_home_total DECIMAL(10,0),\n",
    "  scores_away_total DECIMAL(10,0),\n",
    "  total_points_scored DECIMAL(10,0)\n",
    ");"
   ]
  },
  {
   "cell_type": "code",
   "execution_count": 0,
   "metadata": {
    "application/vnd.databricks.v1+cell": {
     "cellMetadata": {},
     "inputWidgets": {},
     "nuid": "021ddcb6-3e74-4f1d-a6fb-dac87aba96c3",
     "showTitle": false,
     "title": ""
    }
   },
   "outputs": [],
   "source": []
  }
 ],
 "metadata": {
  "application/vnd.databricks.v1+notebook": {
   "dashboards": [],
   "language": "python",
   "notebookMetadata": {
    "mostRecentlyExecutedCommandWithImplicitDF": {
     "commandId": 1573259175426667,
     "dataframes": [
      "_sqldf"
     ]
    },
    "pythonIndentUnit": 4
   },
   "notebookName": "create_denormalized_table_basketball",
   "notebookOrigID": 1573259175426666,
   "widgets": {}
  }
 },
 "nbformat": 4,
 "nbformat_minor": 0
}
